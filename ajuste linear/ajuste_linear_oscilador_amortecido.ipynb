{
  "nbformat": 4,
  "nbformat_minor": 0,
  "metadata": {
    "colab": {
      "name": "ajuste linear oscilador amortecido jaca",
      "provenance": [],
      "collapsed_sections": [],
      "authorship_tag": "ABX9TyP6dwlAvO0x7YDXrH5y0STF",
      "include_colab_link": true
    },
    "kernelspec": {
      "name": "python3",
      "display_name": "Python 3"
    }
  },
  "cells": [
    {
      "cell_type": "markdown",
      "metadata": {
        "id": "view-in-github",
        "colab_type": "text"
      },
      "source": [
        "<a href=\"https://colab.research.google.com/github/luzfelippe/disciplinas/blob/main/ajuste%20linear/ajuste_linear_oscilador_amortecido.ipynb\" target=\"_parent\"><img src=\"https://colab.research.google.com/assets/colab-badge.svg\" alt=\"Open In Colab\"/></a>"
      ]
    },
    {
      "cell_type": "code",
      "metadata": {
        "colab": {
          "base_uri": "https://localhost:8080/",
          "height": 447
        },
        "id": "9sku3SYzFM11",
        "outputId": "807831e1-1cfd-4537-9fe1-166b91b9328f"
      },
      "source": [
        "import numpy as np\n",
        "import matplotlib.pyplot as plt\n",
        "\n",
        "#Ajuste linear\n",
        "x = np.array([0,0.53,1.01,1.53,2.02])\n",
        "y = np.array([3.688879,3.496508,3.295837,3.091042,2.944439])\n",
        "\n",
        "def lsq_sq(x, y):  \n",
        "  n = np.size(x)\n",
        "  mx, my = np.mean(x), np.mean(y)\n",
        "\n",
        "  cov = np.mean(x * y) - mx * my\n",
        "\n",
        "  var = np.var(x)\n",
        "  \n",
        "  a = cov/var\n",
        "  b = my - a *mx\n",
        "\n",
        "  ey = np.sqrt(np.sum(np.power(y - (a * x + b),2) / (n - 2)))\n",
        "  \n",
        "  erro_a = ey / (np.sqrt(var) * np.sqrt(n))\n",
        "  erro_b = erro_a * np.sqrt(np.mean(np.power(x, 2)))\n",
        "\n",
        "  print(f'y = ({a} +- {erro_a})x +' + f'( {b} +- {erro_b})')\n",
        "\n",
        "  #print('covariância=',cov,'variância=',var)\n",
        "  #print('média x=',mx,'média y=',my)\n",
        "  \n",
        "  print('média x = {}\\nmédia y = {}\\ncov = {}\\nvar = {}\\nerro_a = {}\\nerro_b = {}\\ney = {}  '.format(mx,my,cov,var,erro_a,erro_b,ey))\n",
        "\n",
        "  return a, erro_a, b, erro_b\n",
        "\n",
        "parametros = lsq_sq(x, y)\n",
        "\n",
        "#Grafico Helio e Mercurio\n",
        "x1 = np.linspace(-0.25,2.25, 1000) #colocar (valor mín (X) , valos max (x) , número de pontos que constiuem a curva)\n",
        "y1 = parametros[0]*x1 + parametros[2]\n",
        "\n",
        "plt.plot(x1, y1)\n",
        "plt.scatter(x, y, color = 'red')\n",
        "plt.xlabel(\"t (s)\")\n",
        "plt.ylabel(\"ln(A) \")\n",
        "plt.title('Ajuste linear [ ln(A) x t ] \\n',fontsize=14)\n",
        "plt.grid(True)\n",
        "plt.show()\n",
        "\n"
      ],
      "execution_count": 26,
      "outputs": [
        {
          "output_type": "stream",
          "text": [
            "y = (-0.3758836374513919 +- 0.010998238892715825)x +( 3.6859905429255173 +- 0.013668204917819546)\n",
            "média x = 1.018\n",
            "média y = 3.3033410000000005\n",
            "cov = -0.1910000080000005\n",
            "var = 0.508136\n",
            "erro_a = 0.010998238892715825\n",
            "erro_b = 0.013668204917819546\n",
            "ey = 0.017530654604398305  \n"
          ],
          "name": "stdout"
        },
        {
          "output_type": "display_data",
          "data": {
            "image/png": "[encoded data removed]",
            "text/plain": [
              "<Figure size 432x288 with 1 Axes>"
            ]
          },
          "metadata": {
            "tags": [],
            "needs_background": "light"
          }
        }
      ]
    }
  ]
}